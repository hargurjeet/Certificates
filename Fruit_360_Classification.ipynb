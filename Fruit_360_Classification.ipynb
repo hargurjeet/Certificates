{
  "nbformat": 4,
  "nbformat_minor": 0,
  "metadata": {
    "colab": {
      "name": "Fruit 360 Classification.ipynb",
      "provenance": [],
      "toc_visible": true,
      "authorship_tag": "ABX9TyOX3eM3V0SiMyin472oKoj0",
      "include_colab_link": true
    },
    "kernelspec": {
      "name": "python3",
      "display_name": "Python 3"
    },
    "language_info": {
      "name": "python"
    },
    "accelerator": "GPU"
  },
  "cells": [
    {
      "cell_type": "markdown",
      "metadata": {
        "id": "view-in-github",
        "colab_type": "text"
      },
      "source": [
        "<a href=\"https://colab.research.google.com/github/hargurjeet/Certificates/blob/main/Fruit_360_Classification.ipynb\" target=\"_parent\"><img src=\"https://colab.research.google.com/assets/colab-badge.svg\" alt=\"Open In Colab\"/></a>"
      ]
    },
    {
      "cell_type": "markdown",
      "metadata": {
        "id": "F3ok0S3ZZH_S"
      },
      "source": [
        "# Fruit 360 Dataset"
      ]
    },
    {
      "cell_type": "markdown",
      "metadata": {
        "id": "YKZqJDTPZH8W"
      },
      "source": [
        "# 1: About the Dataset"
      ]
    },
    {
      "cell_type": "markdown",
      "metadata": {
        "id": "q8RmNjf4ZH5f"
      },
      "source": [
        "Total number of images: 90483.\n",
        "\n",
        "Training set size: 67692 images (one fruit or vegetable per image).\n",
        "\n",
        "Test set size: 22688 images (one fruit or vegetable per image).\n",
        "\n",
        "Number of classes: 131 (fruits and vegetables).\n",
        "\n",
        "Image size: 100x100 pixels.\n",
        "\n",
        "Filename format: imageindex100.jpg (e.g. 32100.jpg) or rimageindex100.jpg (e.g. r32100.jpg) or r2imageindex100.jpg or r3imageindex100.jpg. \"r\" stands for rotated fruit. \"r2\" means that the fruit was rotated around the 3rd axis. \"100\" comes from image size (100x100 pixels).\n",
        "\n",
        "Different varieties of the same fruit (apple for instance) are stored as belonging to different classes."
      ]
    },
    {
      "cell_type": "markdown",
      "metadata": {
        "id": "BhylvgS2ZZ4o"
      },
      "source": [
        "2: Data Pre Processing"
      ]
    },
    {
      "cell_type": "markdown",
      "metadata": {
        "id": "VEMA-EGEZbmE"
      },
      "source": [
        "Since we are using PyTorch to build the neural network. I import all the related library in single go."
      ]
    },
    {
      "cell_type": "code",
      "metadata": {
        "id": "HTaVZ4M9Y3bn"
      },
      "source": [
        "import os\n",
        "import torch\n",
        "import torchvision\n",
        "import tarfile\n",
        "import torch.nn as nn\n",
        "import numpy as np\n",
        "import torch.nn.functional as F\n",
        "from torchvision.datasets.utils import download_url\n",
        "from torchvision.datasets import ImageFolder\n",
        "from torch.utils.data import DataLoader\n",
        "from torchvision.transforms import ToTensor\n",
        "import torchvision.transforms as tt\n",
        "from torch.utils.data import random_split\n",
        "from torchvision.utils import make_grid\n",
        "import matplotlib\n",
        "import matplotlib.pyplot as plt\n",
        "from torchvision.datasets import CIFAR10\n",
        "%matplotlib inline\n",
        "\n",
        "import warnings\n",
        "warnings.filterwarnings(\"ignore\")"
      ],
      "execution_count": 1,
      "outputs": []
    },
    {
      "cell_type": "markdown",
      "metadata": {
        "id": "nR_ywQl0b5OR"
      },
      "source": [
        "# 2: Data Pre Processing"
      ]
    },
    {
      "cell_type": "markdown",
      "metadata": {
        "id": "9PF07P7KdweR"
      },
      "source": [
        "## 2.1 Downloading the dataset"
      ]
    },
    {
      "cell_type": "code",
      "metadata": {
        "colab": {
          "resources": {
            "http://localhost:8080/nbextensions/google.colab/files.js": {
              "data": "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",
              "ok": true,
              "headers": [
                [
                  "content-type",
                  "application/javascript"
                ]
              ],
              "status": 200,
              "status_text": ""
            }
          },
          "base_uri": "https://localhost:8080/",
          "height": 438
        },
        "id": "ScBldc5KZe9g",
        "outputId": "270d1ac7-91bd-46b7-b533-0e170285fbc1"
      },
      "source": [
        "# Upload kaggle.jason\n",
        "# please follow this link incase not aware: https://www.kaggle.com/general/74235\n",
        "from google.colab import files\n",
        "files.upload()\n",
        "\n",
        "! pip install opendatasets --upgrade\n",
        "import opendatasets as od\n",
        "\n",
        "dataset_url = 'https://www.kaggle.com/moltean/fruits'\n",
        "od.download(dataset_url)"
      ],
      "execution_count": 2,
      "outputs": [
        {
          "output_type": "display_data",
          "data": {
            "text/html": [
              "\n",
              "     <input type=\"file\" id=\"files-0e42208f-ab8d-4342-9e9a-cea5f1ee8117\" name=\"files[]\" multiple disabled\n",
              "        style=\"border:none\" />\n",
              "     <output id=\"result-0e42208f-ab8d-4342-9e9a-cea5f1ee8117\">\n",
              "      Upload widget is only available when the cell has been executed in the\n",
              "      current browser session. Please rerun this cell to enable.\n",
              "      </output>\n",
              "      <script src=\"/nbextensions/google.colab/files.js\"></script> "
            ],
            "text/plain": [
              "<IPython.core.display.HTML object>"
            ]
          },
          "metadata": {
            "tags": []
          }
        },
        {
          "output_type": "stream",
          "text": [
            "Saving kaggle.json to kaggle.json\n",
            "Collecting opendatasets\n",
            "  Downloading https://files.pythonhosted.org/packages/94/52/675979787e9ff83118b203821e859e461fadc60795fe60ebb4bfc8142492/opendatasets-0.1.11-py3-none-any.whl\n",
            "Requirement already satisfied, skipping upgrade: click in /usr/local/lib/python3.7/dist-packages (from opendatasets) (8.0.0)\n",
            "Requirement already satisfied, skipping upgrade: tqdm in /usr/local/lib/python3.7/dist-packages (from opendatasets) (4.41.1)\n",
            "Requirement already satisfied, skipping upgrade: kaggle in /usr/local/lib/python3.7/dist-packages (from opendatasets) (1.5.12)\n",
            "Requirement already satisfied, skipping upgrade: python-slugify in /usr/local/lib/python3.7/dist-packages (from kaggle->opendatasets) (5.0.2)\n",
            "Requirement already satisfied, skipping upgrade: six>=1.10 in /usr/local/lib/python3.7/dist-packages (from kaggle->opendatasets) (1.15.0)\n",
            "Requirement already satisfied, skipping upgrade: urllib3 in /usr/local/lib/python3.7/dist-packages (from kaggle->opendatasets) (1.24.3)\n",
            "Requirement already satisfied, skipping upgrade: certifi in /usr/local/lib/python3.7/dist-packages (from kaggle->opendatasets) (2020.12.5)\n",
            "Requirement already satisfied, skipping upgrade: python-dateutil in /usr/local/lib/python3.7/dist-packages (from kaggle->opendatasets) (2.8.1)\n",
            "Requirement already satisfied, skipping upgrade: requests in /usr/local/lib/python3.7/dist-packages (from kaggle->opendatasets) (2.23.0)\n",
            "Requirement already satisfied, skipping upgrade: text-unidecode>=1.3 in /usr/local/lib/python3.7/dist-packages (from python-slugify->kaggle->opendatasets) (1.3)\n",
            "Requirement already satisfied, skipping upgrade: idna<3,>=2.5 in /usr/local/lib/python3.7/dist-packages (from requests->kaggle->opendatasets) (2.10)\n",
            "Requirement already satisfied, skipping upgrade: chardet<4,>=3.0.2 in /usr/local/lib/python3.7/dist-packages (from requests->kaggle->opendatasets) (3.0.4)\n",
            "Installing collected packages: opendatasets\n",
            "Successfully installed opendatasets-0.1.11\n"
          ],
          "name": "stdout"
        },
        {
          "output_type": "stream",
          "text": [
            "  1%|          | 5.00M/760M [00:00<00:24, 31.9MB/s]"
          ],
          "name": "stderr"
        },
        {
          "output_type": "stream",
          "text": [
            "Downloading fruits.zip to ./fruits\n"
          ],
          "name": "stdout"
        },
        {
          "output_type": "stream",
          "text": [
            "100%|██████████| 760M/760M [00:07<00:00, 106MB/s]\n"
          ],
          "name": "stderr"
        },
        {
          "output_type": "stream",
          "text": [
            "\n"
          ],
          "name": "stdout"
        }
      ]
    },
    {
      "cell_type": "markdown",
      "metadata": {
        "id": "RGI4KJVEd0uF"
      },
      "source": [
        "Before we run any exploration the dataset has to be loaded to a dataloader"
      ]
    },
    {
      "cell_type": "code",
      "metadata": {
        "id": "Cb1r50XEeAEz"
      },
      "source": [
        "data_dir = '/content/fruits/fruits-360/'\n",
        "\n",
        "train_dataset = ImageFolder(data_dir + \"Training\", transform=ToTensor())\n",
        "\n",
        "test_dataset = ImageFolder(data_dir + \"Test\", transform=ToTensor())"
      ],
      "execution_count": 5,
      "outputs": []
    },
    {
      "cell_type": "markdown",
      "metadata": {
        "id": "ePS5yWWLcXXX"
      },
      "source": [
        "# 3: Exploring the dataset"
      ]
    },
    {
      "cell_type": "markdown",
      "metadata": {
        "id": "rMRr9QN4egJW"
      },
      "source": [
        "## Q: How many images does the training and testing dataset contain?"
      ]
    },
    {
      "cell_type": "code",
      "metadata": {
        "colab": {
          "base_uri": "https://localhost:8080/"
        },
        "id": "IwV_X-_Kei_g",
        "outputId": "a4cfd838-53db-49a8-d12c-b4a54bb315e7"
      },
      "source": [
        "dataset_size = len(train_dataset)\n",
        "test_dataset_size = len(test_dataset)\n",
        "print(train_dataset)\n",
        "print(test_dataset)"
      ],
      "execution_count": 7,
      "outputs": [
        {
          "output_type": "stream",
          "text": [
            "Dataset ImageFolder\n",
            "    Number of datapoints: 67692\n",
            "    Root location: /content/fruits/fruits-360/Training\n",
            "    StandardTransform\n",
            "Transform: ToTensor()\n",
            "Dataset ImageFolder\n",
            "    Number of datapoints: 22688\n",
            "    Root location: /content/fruits/fruits-360/Test\n",
            "    StandardTransform\n",
            "Transform: ToTensor()\n"
          ],
          "name": "stdout"
        }
      ]
    },
    {
      "cell_type": "markdown",
      "metadata": {
        "id": "yArdZxI-dSxe"
      },
      "source": [
        "## Q: How many output classes does the dataset contain?"
      ]
    },
    {
      "cell_type": "code",
      "metadata": {
        "colab": {
          "base_uri": "https://localhost:8080/"
        },
        "id": "BxkOs8bPaPbH",
        "outputId": "411809f8-1f5a-4f90-a75f-0d252e15d77e"
      },
      "source": [
        "# Accesssing the classes\n",
        "data_dir = '/content/fruits/fruits-360/'\n",
        "\n",
        "# print(os.listdir(data_dir))\n",
        "classes = os.listdir(data_dir + \"Training\")\n",
        "print(f'Total Number of Classe {len(classes)}')\n",
        "print(f'Classes Names: {classes}')"
      ],
      "execution_count": 8,
      "outputs": [
        {
          "output_type": "stream",
          "text": [
            "Total Number of Classe 131\n",
            "Classes Names: ['Grape White 4', 'Pear Forelle', 'Pear Abate', 'Apple Red Yellow 1', 'Pineapple Mini', 'Grapefruit Pink', 'Lychee', 'Apple Golden 2', 'Pear 2', 'Apple Red 2', 'Nectarine', 'Apple Granny Smith', 'Cherry Rainier', 'Corn Husk', 'Onion Red', 'Rambutan', 'Mango', 'Cantaloupe 2', 'Potato Sweet', 'Pear Monster', 'Corn', 'Beetroot', 'Plum 3', 'Banana', 'Pepper Orange', 'Cherry 1', 'Kiwi', 'Pepino', 'Pear Williams', 'Passion Fruit', 'Nectarine Flat', 'Clementine', 'Pomegranate', 'Blueberry', 'Cherry Wax Yellow', 'Hazelnut', 'Tomato 1', 'Strawberry Wedge', 'Cocos', 'Huckleberry', 'Melon Piel de Sapo', 'Cucumber Ripe', 'Pear Stone', 'Apple Pink Lady', 'Pepper Yellow', 'Dates', 'Onion Red Peeled', 'Physalis with Husk', 'Grape White 3', 'Carambula', 'Cherry Wax Black', 'Nut Forest', 'Plum', 'Tomato Maroon', 'Apple Red 1', 'Tomato Cherry Red', 'Peach', 'Apple Crimson Snow', 'Mangostan', 'Pear Red', 'Pineapple', 'Nut Pecan', 'Pear Kaiser', 'Avocado ripe', 'Quince', 'Cucumber Ripe 2', 'Kohlrabi', 'Grapefruit White', 'Banana Lady Finger', 'Potato Red Washed', 'Tomato 2', 'Apple Golden 1', 'Salak', 'Papaya', 'Tangelo', 'Raspberry', 'Lemon Meyer', 'Strawberry', 'Mulberry', 'Watermelon', 'Peach Flat', 'Apricot', 'Maracuja', 'Eggplant', 'Pomelo Sweetie', 'Walnut', 'Potato Red', 'Apple Braeburn', 'Plum 2', 'Pitahaya Red', 'Banana Red', 'Cauliflower', 'Apple Golden 3', 'Limes', 'Granadilla', 'Grape White 2', 'Apple Red 3', 'Pepper Red', 'Grape Blue', 'Pepper Green', 'Lemon', 'Kumquats', 'Tomato not Ripened', 'Apple Red Yellow 2', 'Physalis', 'Mango Red', 'Avocado', 'Kaki', 'Onion White', 'Pear', 'Guava', 'Tomato Yellow', 'Cherry Wax Red', 'Redcurrant', 'Cherry 2', 'Tomato 3', 'Grape Pink', 'Peach 2', 'Fig', 'Apple Red Delicious', 'Potato White', 'Ginger Root', 'Chestnut', 'Tomato Heart', 'Mandarine', 'Tomato 4', 'Orange', 'Cantaloupe 1', 'Grape White', 'Tamarillo', 'Cactus fruit']\n"
          ],
          "name": "stdout"
        }
      ]
    },
    {
      "cell_type": "markdown",
      "metadata": {
        "id": "un9nkUMLhdFa"
      },
      "source": [
        "## Q: What is the shape of an image tensor from the dataset?"
      ]
    },
    {
      "cell_type": "code",
      "metadata": {
        "colab": {
          "base_uri": "https://localhost:8080/"
        },
        "id": "RA1wqDXjgBHw",
        "outputId": "911df6ca-677f-43a2-bf98-843d253adfb6"
      },
      "source": [
        "img, label = train_dataset[0]\n",
        "img_shape = img.shape\n",
        "img_shape"
      ],
      "execution_count": 9,
      "outputs": [
        {
          "output_type": "execute_result",
          "data": {
            "text/plain": [
              "torch.Size([3, 100, 100])"
            ]
          },
          "metadata": {
            "tags": []
          },
          "execution_count": 9
        }
      ]
    },
    {
      "cell_type": "markdown",
      "metadata": {
        "id": "aJX6y3lBhSLE"
      },
      "source": [
        "Let us print a sample image along with its class and label."
      ]
    },
    {
      "cell_type": "code",
      "metadata": {
        "colab": {
          "base_uri": "https://localhost:8080/",
          "height": 305
        },
        "id": "2_vO3vHWiTq2",
        "outputId": "926577eb-eb6a-41f6-8d16-6fa4a34d8ab7"
      },
      "source": [
        "img, label = train_dataset[0]\n",
        "plt.imshow(img.permute((1, 2, 0)))\n",
        "print('Label (numeric):', label)\n",
        "print('Label (textual):', classes[label])"
      ],
      "execution_count": 10,
      "outputs": [
        {
          "output_type": "stream",
          "text": [
            "Label (numeric): 0\n",
            "Label (textual): Grape White 4\n"
          ],
          "name": "stdout"
        },
        {
          "output_type": "display_data",
          "data": {
            "image/png": "[encoded data removed]",
            "text/plain": [
              "<Figure size 432x288 with 1 Axes>"
            ]
          },
          "metadata": {
            "tags": [],
            "needs_background": "light"
          }
        }
      ]
    },
    {
      "cell_type": "markdown",
      "metadata": {
        "id": "46MrTbC4iaPG"
      },
      "source": [
        "## Q: Can you determine the number of images belonging to each class?"
      ]
    },
    {
      "cell_type": "code",
      "metadata": {
        "colab": {
          "base_uri": "https://localhost:8080/"
        },
        "id": "CXKRgST7iVLI",
        "outputId": "bdd175fb-b7ce-4256-8459-656459904076"
      },
      "source": [
        "dataset_size = len(train_dataset)\n",
        "classes = train_dataset.classes\n",
        "num_classes = len(train_dataset.classes)\n",
        "\n",
        "img_dict = {}\n",
        "for i in range(num_classes):\n",
        "    img_dict[classes[i]] = 0\n",
        "    \n",
        "for i in range(dataset_size):\n",
        "    img, label = train_dataset[i]\n",
        "    img_dict[classes[label]] += 1\n",
        "\n",
        "img_dict"
      ],
      "execution_count": 11,
      "outputs": [
        {
          "output_type": "execute_result",
          "data": {
            "text/plain": [
              "{'Apple Braeburn': 492,\n",
              " 'Apple Crimson Snow': 444,\n",
              " 'Apple Golden 1': 480,\n",
              " 'Apple Golden 2': 492,\n",
              " 'Apple Golden 3': 481,\n",
              " 'Apple Granny Smith': 492,\n",
              " 'Apple Pink Lady': 456,\n",
              " 'Apple Red 1': 492,\n",
              " 'Apple Red 2': 492,\n",
              " 'Apple Red 3': 429,\n",
              " 'Apple Red Delicious': 490,\n",
              " 'Apple Red Yellow 1': 492,\n",
              " 'Apple Red Yellow 2': 672,\n",
              " 'Apricot': 492,\n",
              " 'Avocado': 427,\n",
              " 'Avocado ripe': 491,\n",
              " 'Banana': 490,\n",
              " 'Banana Lady Finger': 450,\n",
              " 'Banana Red': 490,\n",
              " 'Beetroot': 450,\n",
              " 'Blueberry': 462,\n",
              " 'Cactus fruit': 490,\n",
              " 'Cantaloupe 1': 492,\n",
              " 'Cantaloupe 2': 492,\n",
              " 'Carambula': 490,\n",
              " 'Cauliflower': 702,\n",
              " 'Cherry 1': 492,\n",
              " 'Cherry 2': 738,\n",
              " 'Cherry Rainier': 738,\n",
              " 'Cherry Wax Black': 492,\n",
              " 'Cherry Wax Red': 492,\n",
              " 'Cherry Wax Yellow': 492,\n",
              " 'Chestnut': 450,\n",
              " 'Clementine': 490,\n",
              " 'Cocos': 490,\n",
              " 'Corn': 450,\n",
              " 'Corn Husk': 462,\n",
              " 'Cucumber Ripe': 392,\n",
              " 'Cucumber Ripe 2': 468,\n",
              " 'Dates': 490,\n",
              " 'Eggplant': 468,\n",
              " 'Fig': 702,\n",
              " 'Ginger Root': 297,\n",
              " 'Granadilla': 490,\n",
              " 'Grape Blue': 984,\n",
              " 'Grape Pink': 492,\n",
              " 'Grape White': 490,\n",
              " 'Grape White 2': 490,\n",
              " 'Grape White 3': 492,\n",
              " 'Grape White 4': 471,\n",
              " 'Grapefruit Pink': 490,\n",
              " 'Grapefruit White': 492,\n",
              " 'Guava': 490,\n",
              " 'Hazelnut': 464,\n",
              " 'Huckleberry': 490,\n",
              " 'Kaki': 490,\n",
              " 'Kiwi': 466,\n",
              " 'Kohlrabi': 471,\n",
              " 'Kumquats': 490,\n",
              " 'Lemon': 492,\n",
              " 'Lemon Meyer': 490,\n",
              " 'Limes': 490,\n",
              " 'Lychee': 490,\n",
              " 'Mandarine': 490,\n",
              " 'Mango': 490,\n",
              " 'Mango Red': 426,\n",
              " 'Mangostan': 300,\n",
              " 'Maracuja': 490,\n",
              " 'Melon Piel de Sapo': 738,\n",
              " 'Mulberry': 492,\n",
              " 'Nectarine': 492,\n",
              " 'Nectarine Flat': 480,\n",
              " 'Nut Forest': 654,\n",
              " 'Nut Pecan': 534,\n",
              " 'Onion Red': 450,\n",
              " 'Onion Red Peeled': 445,\n",
              " 'Onion White': 438,\n",
              " 'Orange': 479,\n",
              " 'Papaya': 492,\n",
              " 'Passion Fruit': 490,\n",
              " 'Peach': 492,\n",
              " 'Peach 2': 738,\n",
              " 'Peach Flat': 492,\n",
              " 'Pear': 492,\n",
              " 'Pear 2': 696,\n",
              " 'Pear Abate': 490,\n",
              " 'Pear Forelle': 702,\n",
              " 'Pear Kaiser': 300,\n",
              " 'Pear Monster': 490,\n",
              " 'Pear Red': 666,\n",
              " 'Pear Stone': 711,\n",
              " 'Pear Williams': 490,\n",
              " 'Pepino': 490,\n",
              " 'Pepper Green': 444,\n",
              " 'Pepper Orange': 702,\n",
              " 'Pepper Red': 666,\n",
              " 'Pepper Yellow': 666,\n",
              " 'Physalis': 492,\n",
              " 'Physalis with Husk': 492,\n",
              " 'Pineapple': 490,\n",
              " 'Pineapple Mini': 493,\n",
              " 'Pitahaya Red': 490,\n",
              " 'Plum': 447,\n",
              " 'Plum 2': 420,\n",
              " 'Plum 3': 900,\n",
              " 'Pomegranate': 492,\n",
              " 'Pomelo Sweetie': 450,\n",
              " 'Potato Red': 450,\n",
              " 'Potato Red Washed': 453,\n",
              " 'Potato Sweet': 450,\n",
              " 'Potato White': 450,\n",
              " 'Quince': 490,\n",
              " 'Rambutan': 492,\n",
              " 'Raspberry': 490,\n",
              " 'Redcurrant': 492,\n",
              " 'Salak': 490,\n",
              " 'Strawberry': 492,\n",
              " 'Strawberry Wedge': 738,\n",
              " 'Tamarillo': 490,\n",
              " 'Tangelo': 490,\n",
              " 'Tomato 1': 738,\n",
              " 'Tomato 2': 672,\n",
              " 'Tomato 3': 738,\n",
              " 'Tomato 4': 479,\n",
              " 'Tomato Cherry Red': 492,\n",
              " 'Tomato Heart': 684,\n",
              " 'Tomato Maroon': 367,\n",
              " 'Tomato Yellow': 459,\n",
              " 'Tomato not Ripened': 474,\n",
              " 'Walnut': 735,\n",
              " 'Watermelon': 475}"
            ]
          },
          "metadata": {
            "tags": []
          },
          "execution_count": 11
        }
      ]
    },
    {
      "cell_type": "markdown",
      "metadata": {
        "id": "LBLGQgZm3sYQ"
      },
      "source": [
        "# 4: Applying Data normalization and Data augmentation"
      ]
    },
    {
      "cell_type": "markdown",
      "metadata": {
        "id": "w7OrNzey4GBX"
      },
      "source": [
        "## 4.1 Builiding data transforms"
      ]
    },
    {
      "cell_type": "markdown",
      "metadata": {
        "id": "vzbzN1YZ4R0x"
      },
      "source": [
        "We will first write the transform function so that data augmmentation and channel normalization can be implemented.\n",
        "\n",
        "To implement channel normalization first we will calculate mean and SD for RBG channel"
      ]
    },
    {
      "cell_type": "code",
      "metadata": {
        "colab": {
          "base_uri": "https://localhost:8080/"
        },
        "id": "X8IfTdV3GJ7a",
        "outputId": "6e82284b-9b2f-4041-a83d-7cfd595221bc"
      },
      "source": [
        "from PIL import Image\n",
        "import cv2\n",
        "import os\n",
        "import numpy as np\n",
        "m_list, s_list, imgs = [], [], []\n",
        "\n",
        "for clas in os.listdir(data_dir + \"/Training\"):\n",
        "    for fname in os.listdir(data_dir +'/Training/' + clas):\n",
        "      img = cv2.imread(data_dir + '/Training/' + clas + '/' + fname)\n",
        "      img = img / 255.\n",
        "\n",
        "      m, s = cv2.meanStdDev(img)\n",
        "\n",
        "      m_list.append(m.reshape((3,)))\n",
        "      s_list.append(s.reshape((3,)))\n",
        "      # print(m_list)\n",
        "\n",
        "m_array = np.array(m_list)\n",
        "s_array = np.array(s_list)\n",
        "m = m_array.mean(axis=0, keepdims=True)\n",
        "s = s_array.mean(axis=0, keepdims=True)\n",
        "print('mean: ',m[0][::-1])\n",
        "print('std:  ',s[0][::-1])\n"
      ],
      "execution_count": 9,
      "outputs": [
        {
          "output_type": "stream",
          "text": [
            "mean:  [0.68405327 0.57865809 0.5038885 ]\n",
            "std:   [0.25893195 0.32171392 0.36558618]\n"
          ],
          "name": "stdout"
        }
      ]
    },
    {
      "cell_type": "markdown",
      "metadata": {
        "id": "i0a4v6ogk6Js"
      },
      "source": [
        "I will round of the mean and SD upto 4 digits and move them to a tuple"
      ]
    },
    {
      "cell_type": "code",
      "metadata": {
        "colab": {
          "base_uri": "https://localhost:8080/"
        },
        "id": "1YR5oS3CjolA",
        "outputId": "070c45be-9c22-48e4-ae59-d3edfa958fff"
      },
      "source": [
        "means = [round(num, 4) for num in m[0][::-1]]\n",
        "stds = [round(num, 4) for num in s[0][::-1]]\n",
        "means, stds = tuple(means), tuple(stds)\n",
        "stats = means, stds\n",
        "stats"
      ],
      "execution_count": 10,
      "outputs": [
        {
          "output_type": "execute_result",
          "data": {
            "text/plain": [
              "((0.6841, 0.5787, 0.5039), (0.2589, 0.3217, 0.3656))"
            ]
          },
          "metadata": {
            "tags": []
          },
          "execution_count": 10
        }
      ]
    },
    {
      "cell_type": "code",
      "metadata": {
        "colab": {
          "base_uri": "https://localhost:8080/"
        },
        "id": "S9UXnuZJpu8b",
        "outputId": "92da9ba1-bfc7-4d4f-8371-619bb01fa47b"
      },
      "source": [
        "# transform = transforms.Compose([transforms.ToTensor(),])\n",
        "\n",
        "# dataset = datasets.CIFAR10(root='cifar10', train=True, download=False,transform=transform)\n",
        "dataloader = DataLoader(test_dataset, batch_size=1, num_workers=1, shuffle=False)\n",
        "\n",
        "mean = torch.zeros(3)\n",
        "std = torch.zeros(3)\n",
        "\n",
        "for i, data in enumerate(dataloader):\n",
        "    if (i % 10000 == 0): print(i)\n",
        "    data = data[0].squeeze(0)\n",
        "    if (i == 0): size = data.size(1) * data.size(2)\n",
        "    mean += data.sum((1, 2)) / size\n",
        "\n",
        "mean /= len(dataloader)\n",
        "print(mean)\n",
        "mean = mean.unsqueeze(1).unsqueeze(2)\n",
        "\n",
        "for i, data in enumerate(dataloader):\n",
        "    if (i % 10000 == 0): print(i)\n",
        "    data = data[0].squeeze(0)\n",
        "    std += ((data - mean) ** 2).sum((1, 2)) / size\n",
        "\n",
        "std /= len(dataloader)\n",
        "std = std.sqrt()\n",
        "print(std)"
      ],
      "execution_count": 17,
      "outputs": [
        {
          "output_type": "stream",
          "text": [
            "0\n",
            "10000\n",
            "20000\n",
            "tensor([0.6866, 0.5845, 0.5095])\n",
            "0\n",
            "10000\n",
            "20000\n",
            "tensor([0.3045, 0.3601, 0.3929])\n"
          ],
          "name": "stdout"
        }
      ]
    },
    {
      "cell_type": "code",
      "metadata": {
        "colab": {
          "base_uri": "https://localhost:8080/"
        },
        "id": "FA6YqO42qVgq",
        "outputId": "fc50fb36-bd4c-476a-9384-002b6967e359"
      },
      "source": [
        "np.array(std)\n",
        "std = [round(num, 4) for num in np.array(std)]\n",
        "std"
      ],
      "execution_count": 59,
      "outputs": [
        {
          "output_type": "execute_result",
          "data": {
            "text/plain": [
              "[0.3045, 0.3601, 0.3929]"
            ]
          },
          "metadata": {
            "tags": []
          },
          "execution_count": 59
        }
      ]
    },
    {
      "cell_type": "code",
      "metadata": {
        "colab": {
          "base_uri": "https://localhost:8080/"
        },
        "id": "jkajsTwEh_i5",
        "outputId": "5dbcee4e-3a03-4158-8f74-8eea26852000"
      },
      "source": [
        "\n",
        "mean = [round(num, 4) for num in np.array(torch.flatten(mean))]\n",
        "mean"
      ],
      "execution_count": 60,
      "outputs": [
        {
          "output_type": "execute_result",
          "data": {
            "text/plain": [
              "[0.6866, 0.5845, 0.5095]"
            ]
          },
          "metadata": {
            "tags": []
          },
          "execution_count": 60
        }
      ]
    },
    {
      "cell_type": "code",
      "metadata": {
        "colab": {
          "base_uri": "https://localhost:8080/"
        },
        "id": "wG9UCLFDh-Yi",
        "outputId": "cb737f27-8d00-4247-a70c-39121a3205e0"
      },
      "source": [
        "\n",
        "means, stds = tuple(mean), tuple(std)\n",
        "stats = means, stds\n",
        "stats"
      ],
      "execution_count": 61,
      "outputs": [
        {
          "output_type": "execute_result",
          "data": {
            "text/plain": [
              "((0.6866, 0.5845, 0.5095), (0.3045, 0.3601, 0.3929))"
            ]
          },
          "metadata": {
            "tags": []
          },
          "execution_count": 61
        }
      ]
    },
    {
      "cell_type": "code",
      "metadata": {
        "id": "M0cfBzZciEh9"
      },
      "source": [
        ""
      ],
      "execution_count": null,
      "outputs": []
    },
    {
      "cell_type": "code",
      "metadata": {
        "id": "60IDy9VOlItN"
      },
      "source": [
        "# Data transforms (normalization & data augmentation)\n",
        "train_tfms = tt.Compose([\n",
        "                         tt.RandomCrop(100, padding=4, padding_mode='reflect'), \n",
        "                         tt.Resize((100,100)),\n",
        "                         tt.RandomHorizontalFlip(), \n",
        "                         # tt.RandomRotate\n",
        "                         # tt.RandomResizedCrop(256, scale=(0.5,0.9), ratio=(1, 1)), \n",
        "                         # tt.ColorJitter(brightness=0.1, contrast=0.1, saturation=0.1, hue=0.1),\n",
        "                         tt.ToTensor(), \n",
        "                        #  tt.Normalize(*stats,inplace=True),\n",
        "\n",
        "                         ])\n",
        "valid_tfms = tt.Compose([tt.ToTensor(), tt.Resize((100,100)),\n",
        "                        #  tt.Normalize(*stats)\n",
        "                         ])"
      ],
      "execution_count": 89,
      "outputs": []
    },
    {
      "cell_type": "markdown",
      "metadata": {
        "id": "Ar0-MspUtRPg"
      },
      "source": [
        "## 4.2 Applying the transfroms to the dataset"
      ]
    },
    {
      "cell_type": "code",
      "metadata": {
        "id": "U6OTBtpFnjgj"
      },
      "source": [
        "dataset = ImageFolder(data_dir + \"/Training\", transform=train_tfms)\n",
        "\n",
        "Testing = ImageFolder(data_dir + \"/Test\", transform=valid_tfms)"
      ],
      "execution_count": 90,
      "outputs": []
    },
    {
      "cell_type": "markdown",
      "metadata": {
        "id": "tzNtWcZYmVRC"
      },
      "source": [
        "## 4.3 Splitting the dataset"
      ]
    },
    {
      "cell_type": "markdown",
      "metadata": {
        "id": "btKY794H3yVn"
      },
      "source": [
        "We'll use a validation set of 20% from the training set. To ensure we get the same validation set each time, we'll set PyTorch's random number generator to a seed value of 43."
      ]
    },
    {
      "cell_type": "code",
      "metadata": {
        "colab": {
          "base_uri": "https://localhost:8080/"
        },
        "id": "KwjNiWvOfXKf",
        "outputId": "ed675812-ed34-4af7-b432-63a69e9d8f26"
      },
      "source": [
        "torch.manual_seed(43)\n",
        "val_size = round(len(dataset) * 0.2)\n",
        "train_size = round(len(dataset) - val_size)\n",
        "\n",
        "train_ds, val_ds = random_split(dataset, [train_size, val_size])\n",
        "len(train_ds), len(val_ds)"
      ],
      "execution_count": 91,
      "outputs": [
        {
          "output_type": "execute_result",
          "data": {
            "text/plain": [
              "(54154, 13538)"
            ]
          },
          "metadata": {
            "tags": []
          },
          "execution_count": 91
        }
      ]
    },
    {
      "cell_type": "code",
      "metadata": {
        "id": "JfqQ2lyWpcef"
      },
      "source": [
        "batch_size=400\n",
        "\n",
        "train_loader = DataLoader(train_ds, batch_size, shuffle=True, num_workers=4, pin_memory=True)\n",
        "val_loader = DataLoader(val_ds, batch_size*2, num_workers=4, pin_memory=True)\n",
        "test_loader = DataLoader(test_dataset, batch_size*2, num_workers=4, pin_memory=True)"
      ],
      "execution_count": 92,
      "outputs": []
    },
    {
      "cell_type": "markdown",
      "metadata": {
        "id": "fO1vfyIbta4F"
      },
      "source": [
        "# 5: Accessing few sample images"
      ]
    },
    {
      "cell_type": "markdown",
      "metadata": {
        "id": "fu-eCOXFp0mt"
      },
      "source": [
        "Let's visualize a batch of data using the make_grid helper function from Torchvision."
      ]
    },
    {
      "cell_type": "code",
      "metadata": {
        "id": "eKtlNEtwnQHH"
      },
      "source": [
        "# from torchvision.utils import make_grid\n",
        "\n",
        "# def denormalize(images, means, stds):\n",
        "#     means = torch.tensor(means).reshape(1, 3, 1, 1)\n",
        "#     stds = torch.tensor(stds).reshape(1, 3, 1, 1)\n",
        "#     return images * stds + means\n",
        "\n",
        "# def show_batch(dl):\n",
        "#     for images, labels in dl:\n",
        "#         fig, ax = plt.subplots(figsize=(12, 6))\n",
        "#         ax.set_xticks([]); ax.set_yticks([])\n",
        "#         denorm_images = denormalize(images, *stats)\n",
        "#         ax.imshow(make_grid(images[:64], nrow=8).permute(1, 2, 0).clamp(0,1))\n",
        "#         break\n",
        "\n",
        "# show_batch(train_loader)"
      ],
      "execution_count": 93,
      "outputs": []
    },
    {
      "cell_type": "markdown",
      "metadata": {
        "id": "YYLOKqKFsAax"
      },
      "source": [
        "Can you label all the images by looking at them? Trying to label a random sample of the data manually is a good way to estimate the difficulty of the problem, and identify errors in labeling, if any"
      ]
    },
    {
      "cell_type": "markdown",
      "metadata": {
        "id": "txz8-oBStlc2"
      },
      "source": [
        "# 6: Accessing GPU"
      ]
    },
    {
      "cell_type": "markdown",
      "metadata": {
        "id": "Rn1kqEj9tlD-"
      },
      "source": [
        "You can use a Graphics Processing Unit (GPU) to train your models faster if your execution platform is connected to a GPU manufactured by NVIDIA. Follow these instructions to use a GPU on the platform of your choice:\n",
        "\n",
        "- Google Colab: Use the menu option \"Runtime > Change Runtime Type\" and select \"GPU\" from the \"Hardware Accelerator\" dropdown.\n",
        "- Kaggle: In the \"Settings\" section of the sidebar, select \"GPU\" from the \"Accelerator\" dropdown. Use the button on the top-right to open the sidebar.\n",
        "- Binder: Notebooks running on Binder cannot use a GPU, as the machines powering Binder aren't connected to any GPUs.\n",
        "- Linux: If your laptop/desktop has an NVIDIA GPU (graphics card), make sure you have installed the NVIDIA CUDA drivers.\n",
        "- Windows: If your laptop/desktop has an NVIDIA GPU (graphics card), make sure you have installed the NVIDIA CUDA drivers.\n",
        "macOS: macOS is not compatible with NVIDIA GPUs\n",
        "- If you do not have access to a GPU or aren't sure what it is, don't worry, you can execute all the code in this tutorial just fine without a GPU.\n",
        "\n",
        "Let's begin by installing and importing the required libraries."
      ]
    },
    {
      "cell_type": "code",
      "metadata": {
        "id": "wyW5MHmXtkmd"
      },
      "source": [
        "def get_default_device():\n",
        "    \"\"\"Pick GPU if available, else CPU\"\"\"\n",
        "    if torch.cuda.is_available():\n",
        "        return torch.device('cuda')\n",
        "    else:\n",
        "        return torch.device('cpu')\n",
        "    \n",
        "def to_device(data, device):\n",
        "    \"\"\"Move tensor(s) to chosen device\"\"\"\n",
        "    if isinstance(data, (list,tuple)):\n",
        "        return [to_device(x, device) for x in data]\n",
        "    return data.to(device, non_blocking=True)\n",
        "\n",
        "class DeviceDataLoader():\n",
        "    \"\"\"Wrap a dataloader to move data to a device\"\"\"\n",
        "    def __init__(self, dl, device):\n",
        "        self.dl = dl\n",
        "        self.device = device\n",
        "        \n",
        "    def __iter__(self):\n",
        "        \"\"\"Yield a batch of data after moving it to device\"\"\"\n",
        "        for b in self.dl: \n",
        "            yield to_device(b, self.device)\n",
        "\n",
        "    def __len__(self):\n",
        "        \"\"\"Number of batches\"\"\"\n",
        "        return len(self.dl)"
      ],
      "execution_count": 94,
      "outputs": []
    },
    {
      "cell_type": "code",
      "metadata": {
        "id": "NXafPB9Btysj"
      },
      "source": [
        "device = get_default_device()\n",
        "device\n",
        "\n",
        "train_dl = DeviceDataLoader(train_loader, device)\n",
        "valid_dl = DeviceDataLoader(val_loader, device)\n",
        "test_dl = DeviceDataLoader(test_loader, device)"
      ],
      "execution_count": 95,
      "outputs": []
    },
    {
      "cell_type": "markdown",
      "metadata": {
        "id": "dxudvjtvsCyt"
      },
      "source": [
        "# 7: Configuring the model"
      ]
    },
    {
      "cell_type": "markdown",
      "metadata": {
        "id": "aSPcOvO0uifo"
      },
      "source": [
        "## 7.1: Setting up Accuracy funtion and Image base class"
      ]
    },
    {
      "cell_type": "code",
      "metadata": {
        "id": "CfvZFL5InUK6"
      },
      "source": [
        "def accuracy(outputs, labels):\n",
        "    _, preds = torch.max(outputs, dim=1)\n",
        "    return torch.tensor(torch.sum(preds == labels).item() / len(preds))\n",
        "\n",
        "\n",
        "class ImageClassificationBase(nn.Module):\n",
        "    def training_step(self, batch):\n",
        "        images, labels = batch \n",
        "        out = self(images)                  # Generate predictions\n",
        "        loss = F.cross_entropy(out, labels) # Calculate loss\n",
        "        return loss\n",
        "    \n",
        "    def validation_step(self, batch):\n",
        "        images, labels = batch \n",
        "        out = self(images)                    # Generate predictions\n",
        "        loss = F.cross_entropy(out, labels)   # Calculate loss\n",
        "        acc = accuracy(out, labels)           # Calculate accuracy\n",
        "        return {'val_loss': loss.detach(), 'val_acc': acc}\n",
        "        \n",
        "    def validation_epoch_end(self, outputs):\n",
        "        batch_losses = [x['val_loss'] for x in outputs]\n",
        "        epoch_loss = torch.stack(batch_losses).mean()   # Combine losses\n",
        "        batch_accs = [x['val_acc'] for x in outputs]\n",
        "        epoch_acc = torch.stack(batch_accs).mean()      # Combine accuracies\n",
        "        return {'val_loss': epoch_loss.item(), 'val_acc': epoch_acc.item()}\n",
        "    \n",
        "    def epoch_end(self, epoch, result):\n",
        "        print(\"Epoch [{}], train_loss: {:.4f}, val_loss: {:.4f}, val_acc: {:.4f}\".format(epoch, result['train_loss'], result['val_loss'], result['val_acc']))"
      ],
      "execution_count": 96,
      "outputs": []
    },
    {
      "cell_type": "code",
      "metadata": {
        "id": "rxpb_rOdnUIA"
      },
      "source": [
        "class ImageClassificationBase(nn.Module):\n",
        "    def training_step(self, batch):\n",
        "        images, labels = batch \n",
        "        out = self(images)                  # Generate predictions\n",
        "        loss = F.cross_entropy(out, labels) # Calculate loss\n",
        "        return loss\n",
        "    \n",
        "    def validation_step(self, batch):\n",
        "        images, labels = batch \n",
        "        out = self(images)                    # Generate predictions\n",
        "        loss = F.cross_entropy(out, labels)   # Calculate loss\n",
        "        acc = accuracy(out, labels)           # Calculate accuracy\n",
        "        return {'val_loss': loss.detach(), 'val_acc': acc}\n",
        "        \n",
        "    def validation_epoch_end(self, outputs):\n",
        "        batch_losses = [x['val_loss'] for x in outputs]\n",
        "        epoch_loss = torch.stack(batch_losses).mean()   # Combine losses\n",
        "        batch_accs = [x['val_acc'] for x in outputs]\n",
        "        epoch_acc = torch.stack(batch_accs).mean()      # Combine accuracies\n",
        "        return {'val_loss': epoch_loss.item(), 'val_acc': epoch_acc.item()}\n",
        "    \n",
        "    def epoch_end(self, epoch, result):\n",
        "        print(\"Epoch [{}], train_loss: {:.4f}, val_loss: {:.4f}, val_acc: {:.4f}\".format(epoch, result['train_loss'], result['val_loss'], result['val_acc']))"
      ],
      "execution_count": 97,
      "outputs": []
    },
    {
      "cell_type": "markdown",
      "metadata": {
        "id": "AaRn8jPBvvd-"
      },
      "source": [
        "## 7.2 Implementing Batch normalization and Dropout"
      ]
    },
    {
      "cell_type": "code",
      "metadata": {
        "colab": {
          "base_uri": "https://localhost:8080/"
        },
        "id": "0ZbuYc4S8orj",
        "outputId": "57a3fd03-2164-421b-f30d-dee64d8d0772"
      },
      "source": [
        "def weight_reset(m):\n",
        "    if isinstance(m, nn.Conv2d) or isinstance(m, nn.Linear):\n",
        "        m.reset_parameters()\n",
        "\n",
        "model.apply(weight_reset)"
      ],
      "execution_count": 98,
      "outputs": [
        {
          "output_type": "execute_result",
          "data": {
            "text/plain": [
              "Fruit360CnnModel(\n",
              "  (network): Sequential(\n",
              "    (0): Conv2d(3, 32, kernel_size=(3, 3), stride=(1, 1), padding=(1, 1))\n",
              "    (1): BatchNorm2d(32, eps=1e-05, momentum=0.1, affine=True, track_running_stats=True)\n",
              "    (2): ReLU()\n",
              "    (3): Conv2d(32, 64, kernel_size=(3, 3), stride=(1, 1), padding=(1, 1))\n",
              "    (4): BatchNorm2d(64, eps=1e-05, momentum=0.1, affine=True, track_running_stats=True)\n",
              "    (5): ReLU()\n",
              "    (6): MaxPool2d(kernel_size=2, stride=2, padding=0, dilation=1, ceil_mode=False)\n",
              "    (7): Conv2d(64, 128, kernel_size=(3, 3), stride=(1, 1), padding=(1, 1))\n",
              "    (8): BatchNorm2d(128, eps=1e-05, momentum=0.1, affine=True, track_running_stats=True)\n",
              "    (9): ReLU()\n",
              "    (10): Conv2d(128, 128, kernel_size=(3, 3), stride=(1, 1), padding=(1, 1))\n",
              "    (11): BatchNorm2d(128, eps=1e-05, momentum=0.1, affine=True, track_running_stats=True)\n",
              "    (12): ReLU()\n",
              "    (13): MaxPool2d(kernel_size=2, stride=2, padding=0, dilation=1, ceil_mode=False)\n",
              "    (14): Conv2d(128, 256, kernel_size=(3, 3), stride=(1, 1), padding=(1, 1))\n",
              "    (15): BatchNorm2d(256, eps=1e-05, momentum=0.1, affine=True, track_running_stats=True)\n",
              "    (16): ReLU()\n",
              "    (17): Conv2d(256, 256, kernel_size=(3, 3), stride=(1, 1), padding=(1, 1))\n",
              "    (18): BatchNorm2d(256, eps=1e-05, momentum=0.1, affine=True, track_running_stats=True)\n",
              "    (19): ReLU()\n",
              "    (20): MaxPool2d(kernel_size=5, stride=5, padding=0, dilation=1, ceil_mode=False)\n",
              "    (21): Flatten(start_dim=1, end_dim=-1)\n",
              "    (22): Dropout(p=0.3, inplace=False)\n",
              "    (23): Linear(in_features=6400, out_features=1024, bias=True)\n",
              "    (24): BatchNorm1d(1024, eps=1e-05, momentum=0.1, affine=True, track_running_stats=True)\n",
              "    (25): ReLU()\n",
              "    (26): Dropout(p=0.2, inplace=False)\n",
              "    (27): Linear(in_features=1024, out_features=512, bias=True)\n",
              "    (28): BatchNorm1d(512, eps=1e-05, momentum=0.1, affine=True, track_running_stats=True)\n",
              "    (29): ReLU()\n",
              "    (30): Linear(in_features=512, out_features=131, bias=True)\n",
              "  )\n",
              ")"
            ]
          },
          "metadata": {
            "tags": []
          },
          "execution_count": 98
        }
      ]
    },
    {
      "cell_type": "code",
      "metadata": {
        "colab": {
          "base_uri": "https://localhost:8080/"
        },
        "id": "ig2AeeZynUEf",
        "outputId": "f475333a-8e1e-4ac0-fa8e-b5a9dc2c2734"
      },
      "source": [
        "class Fruit360CnnModel(ImageClassificationBase):\n",
        "    def __init__(self):\n",
        "        super().__init__()\n",
        "        self.network = nn.Sequential(\n",
        "            # nn.AdaptiveAvgPool2d(100),\n",
        "            nn.Conv2d(3, 32, kernel_size=3, padding=1), # 32 X 100 X 100\n",
        "            nn.BatchNorm2d(32),\n",
        "            nn.ReLU(), # 32 X 100 X 100\n",
        "            nn.Conv2d(32, 64, kernel_size=3, stride=1, padding=1), \n",
        "            nn.BatchNorm2d(64),\n",
        "            nn.ReLU(),\n",
        "            nn.MaxPool2d(2, 2), # 64 X 50 X 50\n",
        "\n",
        "            nn.Conv2d(64, 128, kernel_size=3, stride=1, padding=1),\n",
        "            nn.BatchNorm2d(128),\n",
        "            nn.ReLU(),\n",
        "            nn.Conv2d(128, 128, kernel_size=3, stride=1, padding=1),\n",
        "            nn.BatchNorm2d(128),\n",
        "            nn.ReLU(),\n",
        "            nn.MaxPool2d(2, 2), # output: 128 x 25 x 25\n",
        "\n",
        "            nn.Conv2d(128, 256, kernel_size=3, stride=1, padding=1),\n",
        "            nn.BatchNorm2d(256),\n",
        "            nn.ReLU(),\n",
        "            nn.Conv2d(256, 256, kernel_size=3, stride=1, padding=1),\n",
        "            nn.BatchNorm2d(256),\n",
        "            nn.ReLU(),\n",
        "            nn.MaxPool2d(5, 5), # output: 256 x 5 x 5\n",
        "\n",
        "            nn.Flatten(), \n",
        "            nn.Dropout(0.3),\n",
        "            nn.Linear(256*5*5, 1024),\n",
        "            nn.BatchNorm1d(1024),\n",
        "            nn.ReLU(),\n",
        "            nn.Dropout(0.2),\n",
        "            nn.Linear(1024, 512),\n",
        "            nn.BatchNorm1d(512),\n",
        "            nn.ReLU(),\n",
        "            nn.Linear(512, 131))\n",
        "        \n",
        "    def forward(self, xb):\n",
        "      return self.network(xb)\n",
        "\n",
        "model = Fruit360CnnModel()\n",
        "model"
      ],
      "execution_count": 99,
      "outputs": [
        {
          "output_type": "execute_result",
          "data": {
            "text/plain": [
              "Fruit360CnnModel(\n",
              "  (network): Sequential(\n",
              "    (0): Conv2d(3, 32, kernel_size=(3, 3), stride=(1, 1), padding=(1, 1))\n",
              "    (1): BatchNorm2d(32, eps=1e-05, momentum=0.1, affine=True, track_running_stats=True)\n",
              "    (2): ReLU()\n",
              "    (3): Conv2d(32, 64, kernel_size=(3, 3), stride=(1, 1), padding=(1, 1))\n",
              "    (4): BatchNorm2d(64, eps=1e-05, momentum=0.1, affine=True, track_running_stats=True)\n",
              "    (5): ReLU()\n",
              "    (6): MaxPool2d(kernel_size=2, stride=2, padding=0, dilation=1, ceil_mode=False)\n",
              "    (7): Conv2d(64, 128, kernel_size=(3, 3), stride=(1, 1), padding=(1, 1))\n",
              "    (8): BatchNorm2d(128, eps=1e-05, momentum=0.1, affine=True, track_running_stats=True)\n",
              "    (9): ReLU()\n",
              "    (10): Conv2d(128, 128, kernel_size=(3, 3), stride=(1, 1), padding=(1, 1))\n",
              "    (11): BatchNorm2d(128, eps=1e-05, momentum=0.1, affine=True, track_running_stats=True)\n",
              "    (12): ReLU()\n",
              "    (13): MaxPool2d(kernel_size=2, stride=2, padding=0, dilation=1, ceil_mode=False)\n",
              "    (14): Conv2d(128, 256, kernel_size=(3, 3), stride=(1, 1), padding=(1, 1))\n",
              "    (15): BatchNorm2d(256, eps=1e-05, momentum=0.1, affine=True, track_running_stats=True)\n",
              "    (16): ReLU()\n",
              "    (17): Conv2d(256, 256, kernel_size=(3, 3), stride=(1, 1), padding=(1, 1))\n",
              "    (18): BatchNorm2d(256, eps=1e-05, momentum=0.1, affine=True, track_running_stats=True)\n",
              "    (19): ReLU()\n",
              "    (20): MaxPool2d(kernel_size=5, stride=5, padding=0, dilation=1, ceil_mode=False)\n",
              "    (21): Flatten(start_dim=1, end_dim=-1)\n",
              "    (22): Dropout(p=0.3, inplace=False)\n",
              "    (23): Linear(in_features=6400, out_features=1024, bias=True)\n",
              "    (24): BatchNorm1d(1024, eps=1e-05, momentum=0.1, affine=True, track_running_stats=True)\n",
              "    (25): ReLU()\n",
              "    (26): Dropout(p=0.2, inplace=False)\n",
              "    (27): Linear(in_features=1024, out_features=512, bias=True)\n",
              "    (28): BatchNorm1d(512, eps=1e-05, momentum=0.1, affine=True, track_running_stats=True)\n",
              "    (29): ReLU()\n",
              "    (30): Linear(in_features=512, out_features=131, bias=True)\n",
              "  )\n",
              ")"
            ]
          },
          "metadata": {
            "tags": []
          },
          "execution_count": 99
        }
      ]
    },
    {
      "cell_type": "markdown",
      "metadata": {
        "id": "AUsm1GXEwrEf"
      },
      "source": [
        "## 7.3 Implementing Weight Decay, Gradient clipping, Adam optimizer while training"
      ]
    },
    {
      "cell_type": "code",
      "metadata": {
        "id": "9yR7mnQonUB3"
      },
      "source": [
        "@torch.no_grad()\n",
        "\n",
        "def evaluate(model, val_loader):\n",
        "    model.eval()\n",
        "    outputs = [model.validation_step(batch) for batch in val_loader]\n",
        "    return model.validation_epoch_end(outputs)\n",
        "\n",
        "def get_lr(optimizer):\n",
        "    for param_group in optimizer.param_groups:\n",
        "        return param_group['lr']\n",
        "\n",
        "# def fit(epochs, lr, model, train_loader, val_loader, opt_func=torch.optim.SGD):\n",
        "def fit_one_cycle(epochs, max_lr, model, train_loader, val_loader, \n",
        "                  weight_decay=0, grad_clip=None, opt_func=torch.optim.SGD):\n",
        "    torch.cuda.empty_cache()\n",
        "    history = []\n",
        "    \n",
        "    # Set up cutom optimizer with weight decay\n",
        "    optimizer = opt_func(model.parameters(), max_lr, weight_decay=weight_decay)\n",
        "    # Set up one-cycle learning rate scheduler\n",
        "    sched = torch.optim.lr_scheduler.OneCycleLR(optimizer, max_lr, epochs=epochs, \n",
        "                                                steps_per_epoch=len(train_loader))\n",
        "    for epoch in range(epochs):\n",
        "        # Training Phase \n",
        "        model.train()\n",
        "        train_losses = []\n",
        "        lrs = []\n",
        "        for batch in train_loader:\n",
        "            loss = model.training_step(batch)\n",
        "            train_losses.append(loss)\n",
        "            loss.backward()\n",
        "            \n",
        "            # Gradient clipping\n",
        "            if grad_clip: \n",
        "                nn.utils.clip_grad_value_(model.parameters(), grad_clip)\n",
        "            \n",
        "            optimizer.step()\n",
        "            optimizer.zero_grad()\n",
        "            \n",
        "            # Record & update learning rate\n",
        "            lrs.append(get_lr(optimizer))\n",
        "            sched.step()\n",
        "        \n",
        "        # Validation phase\n",
        "        result = evaluate(model, val_loader)\n",
        "        result['train_loss'] = torch.stack(train_losses).mean().item()\n",
        "        result['lrs'] = lrs\n",
        "        model.epoch_end(epoch, result)\n",
        "        history.append(result)\n",
        "    return history"
      ],
      "execution_count": 100,
      "outputs": []
    },
    {
      "cell_type": "code",
      "metadata": {
        "colab": {
          "base_uri": "https://localhost:8080/"
        },
        "id": "EI8W-nLIw0OI",
        "outputId": "c94ca870-f060-409a-c8a5-f4ecf663bf73"
      },
      "source": [
        "model = to_device(model, device)\n",
        "model"
      ],
      "execution_count": 101,
      "outputs": [
        {
          "output_type": "execute_result",
          "data": {
            "text/plain": [
              "Fruit360CnnModel(\n",
              "  (network): Sequential(\n",
              "    (0): Conv2d(3, 32, kernel_size=(3, 3), stride=(1, 1), padding=(1, 1))\n",
              "    (1): BatchNorm2d(32, eps=1e-05, momentum=0.1, affine=True, track_running_stats=True)\n",
              "    (2): ReLU()\n",
              "    (3): Conv2d(32, 64, kernel_size=(3, 3), stride=(1, 1), padding=(1, 1))\n",
              "    (4): BatchNorm2d(64, eps=1e-05, momentum=0.1, affine=True, track_running_stats=True)\n",
              "    (5): ReLU()\n",
              "    (6): MaxPool2d(kernel_size=2, stride=2, padding=0, dilation=1, ceil_mode=False)\n",
              "    (7): Conv2d(64, 128, kernel_size=(3, 3), stride=(1, 1), padding=(1, 1))\n",
              "    (8): BatchNorm2d(128, eps=1e-05, momentum=0.1, affine=True, track_running_stats=True)\n",
              "    (9): ReLU()\n",
              "    (10): Conv2d(128, 128, kernel_size=(3, 3), stride=(1, 1), padding=(1, 1))\n",
              "    (11): BatchNorm2d(128, eps=1e-05, momentum=0.1, affine=True, track_running_stats=True)\n",
              "    (12): ReLU()\n",
              "    (13): MaxPool2d(kernel_size=2, stride=2, padding=0, dilation=1, ceil_mode=False)\n",
              "    (14): Conv2d(128, 256, kernel_size=(3, 3), stride=(1, 1), padding=(1, 1))\n",
              "    (15): BatchNorm2d(256, eps=1e-05, momentum=0.1, affine=True, track_running_stats=True)\n",
              "    (16): ReLU()\n",
              "    (17): Conv2d(256, 256, kernel_size=(3, 3), stride=(1, 1), padding=(1, 1))\n",
              "    (18): BatchNorm2d(256, eps=1e-05, momentum=0.1, affine=True, track_running_stats=True)\n",
              "    (19): ReLU()\n",
              "    (20): MaxPool2d(kernel_size=5, stride=5, padding=0, dilation=1, ceil_mode=False)\n",
              "    (21): Flatten(start_dim=1, end_dim=-1)\n",
              "    (22): Dropout(p=0.3, inplace=False)\n",
              "    (23): Linear(in_features=6400, out_features=1024, bias=True)\n",
              "    (24): BatchNorm1d(1024, eps=1e-05, momentum=0.1, affine=True, track_running_stats=True)\n",
              "    (25): ReLU()\n",
              "    (26): Dropout(p=0.2, inplace=False)\n",
              "    (27): Linear(in_features=1024, out_features=512, bias=True)\n",
              "    (28): BatchNorm1d(512, eps=1e-05, momentum=0.1, affine=True, track_running_stats=True)\n",
              "    (29): ReLU()\n",
              "    (30): Linear(in_features=512, out_features=131, bias=True)\n",
              "  )\n",
              ")"
            ]
          },
          "metadata": {
            "tags": []
          },
          "execution_count": 101
        }
      ]
    },
    {
      "cell_type": "code",
      "metadata": {
        "colab": {
          "base_uri": "https://localhost:8080/"
        },
        "id": "L4aZQq8pw0L0",
        "outputId": "cc794216-a1db-42ab-d6e6-cfb1f193f418"
      },
      "source": [
        "os.environ['WANDB_CONSOLE'] = 'off'\n",
        "\n",
        "history = [evaluate(model, valid_dl)]\n",
        "history\n"
      ],
      "execution_count": 102,
      "outputs": [
        {
          "output_type": "execute_result",
          "data": {
            "text/plain": [
              "[{'val_acc': 0.00633588433265686, 'val_loss': 4.875498294830322}]"
            ]
          },
          "metadata": {
            "tags": []
          },
          "execution_count": 102
        }
      ]
    },
    {
      "cell_type": "code",
      "metadata": {
        "id": "wle8U2O3w0Jf"
      },
      "source": [
        "epochs = 5\n",
        "max_lr = 0.01\n",
        "grad_clip = 0.1\n",
        "weight_decay = 1e-4\n",
        "opt_func = torch.optim.Adam"
      ],
      "execution_count": 103,
      "outputs": []
    },
    {
      "cell_type": "code",
      "metadata": {
        "colab": {
          "base_uri": "https://localhost:8080/"
        },
        "id": "EpjsWShxOUGu",
        "outputId": "bbf090cb-26e5-4f6d-9d30-288dfa38b345"
      },
      "source": [
        "%%time\n",
        "\n",
        "os.environ['WANDB_CONSOLE'] = 'off'\n",
        "\n",
        "history += fit_one_cycle(epochs, max_lr, model, train_dl, valid_dl, \n",
        "                             grad_clip=grad_clip, \n",
        "                             weight_decay=weight_decay, \n",
        "                             opt_func=opt_func)"
      ],
      "execution_count": 104,
      "outputs": [
        {
          "output_type": "stream",
          "text": [
            "Epoch [0], train_loss: 0.8283, val_loss: 1.1164, val_acc: 0.7185\n",
            "Epoch [1], train_loss: 0.0848, val_loss: 0.0417, val_acc: 0.9883\n",
            "Epoch [2], train_loss: 0.0124, val_loss: 0.0020, val_acc: 0.9997\n",
            "Epoch [3], train_loss: 0.0019, val_loss: 0.0007, val_acc: 0.9999\n",
            "CPU times: user 2min 3s, sys: 1min 50s, total: 3min 53s\n",
            "Wall time: 5min 2s\n"
          ],
          "name": "stdout"
        }
      ]
    },
    {
      "cell_type": "code",
      "metadata": {
        "colab": {
          "base_uri": "https://localhost:8080/",
          "height": 295
        },
        "id": "eL6Rwjt7OVSK",
        "outputId": "a47d5e2f-7eef-42df-b387-dec8dca4b39c"
      },
      "source": [
        "def plot_accuracies(history):\n",
        "    accuracies = [x['val_acc'] for x in history]\n",
        "    plt.plot(accuracies, '-x')\n",
        "    plt.xlabel('epoch')\n",
        "    plt.ylabel('accuracy')\n",
        "    plt.title('Accuracy vs. No. of epochs');\n",
        "\n",
        "plot_accuracies(history)"
      ],
      "execution_count": 105,
      "outputs": [
        {
          "output_type": "display_data",
          "data": {
            "image/png": "[encoded data removed]",
            "text/plain": [
              "<Figure size 432x288 with 1 Axes>"
            ]
          },
          "metadata": {
            "tags": [],
            "needs_background": "light"
          }
        }
      ]
    },
    {
      "cell_type": "code",
      "metadata": {
        "colab": {
          "base_uri": "https://localhost:8080/",
          "height": 295
        },
        "id": "mfYnLD9kOnQU",
        "outputId": "85385817-02bd-4049-be01-823698e92603"
      },
      "source": [
        "def plot_losses(history):\n",
        "    train_losses = [x.get('train_loss') for x in history]\n",
        "    val_losses = [x['val_loss'] for x in history]\n",
        "    plt.plot(train_losses, '-bx')\n",
        "    plt.plot(val_losses, '-rx')\n",
        "    plt.xlabel('epoch')\n",
        "    plt.ylabel('loss')\n",
        "    plt.legend(['Training', 'Validation'])\n",
        "    plt.title('Loss vs. No. of epochs');\n",
        "\n",
        "plot_losses(history)"
      ],
      "execution_count": 106,
      "outputs": [
        {
          "output_type": "display_data",
          "data": {
            "image/png": "[encoded data removed]",
            "text/plain": [
              "<Figure size 432x288 with 1 Axes>"
            ]
          },
          "metadata": {
            "tags": [],
            "needs_background": "light"
          }
        }
      ]
    },
    {
      "cell_type": "code",
      "metadata": {
        "id": "Bh53c1BIpDc8"
      },
      "source": [
        "def plot_lrs(history):\n",
        "    lrs = np.concatenate([x.get('lrs', []) for x in history])\n",
        "    plt.plot(lrs)\n",
        "    plt.xlabel('Batch no.')\n",
        "    plt.ylabel('Learning rate')\n",
        "    plt.title('Learning Rate vs. Batch no.');"
      ],
      "execution_count": 107,
      "outputs": []
    },
    {
      "cell_type": "code",
      "metadata": {
        "colab": {
          "base_uri": "https://localhost:8080/",
          "height": 295
        },
        "id": "rrwHAyczpDZg",
        "outputId": "8ff46a36-d7f2-4d7c-bc75-4d445da77ace"
      },
      "source": [
        "plot_lrs(history)"
      ],
      "execution_count": 108,
      "outputs": [
        {
          "output_type": "display_data",
          "data": {
            "image/png": "[encoded data removed]",
            "text/plain": [
              "<Figure size 432x288 with 1 Axes>"
            ]
          },
          "metadata": {
            "tags": [],
            "needs_background": "light"
          }
        }
      ]
    },
    {
      "cell_type": "code",
      "metadata": {
        "id": "DO_BDTF01xfo"
      },
      "source": [
        "test_tfms = tt.Compose([tt.Resize((100, 100)), \n",
        "                        tt.ToTensor()])"
      ],
      "execution_count": 109,
      "outputs": []
    },
    {
      "cell_type": "code",
      "metadata": {
        "id": "ac2qpd1g1xbt"
      },
      "source": [
        "test_dataset = ImageFolder(data_dir + \"Test\", transform=test_tfms)"
      ],
      "execution_count": 110,
      "outputs": []
    },
    {
      "cell_type": "code",
      "metadata": {
        "colab": {
          "base_uri": "https://localhost:8080/"
        },
        "id": "8EWLz9bb1xZB",
        "outputId": "eff81fba-2c22-4874-cf91-d5aa72ee4678"
      },
      "source": [
        "test_loader = DeviceDataLoader(DataLoader(test_dataset, batch_size), device)\n",
        "result = evaluate(model, test_loader)\n",
        "result"
      ],
      "execution_count": 111,
      "outputs": [
        {
          "output_type": "execute_result",
          "data": {
            "text/plain": [
              "{'val_acc': 0.9925438165664673, 'val_loss': 0.029842684045433998}"
            ]
          },
          "metadata": {
            "tags": []
          },
          "execution_count": 111
        }
      ]
    },
    {
      "cell_type": "code",
      "metadata": {
        "id": "1Ucravey1xWk"
      },
      "source": [
        "def predict_image(img, model):\n",
        "    # Convert to a batch of 1\n",
        "    xb = to_device(img.unsqueeze(0), device)\n",
        "    # Get predictions from model\n",
        "    yb = model(xb)\n",
        "    # Pick index with highest probability\n",
        "    _, preds  = torch.max(yb, dim=1)\n",
        "    # Retrieve the class label\n",
        "    return dataset.classes[preds[0].item()]"
      ],
      "execution_count": 112,
      "outputs": []
    },
    {
      "cell_type": "code",
      "metadata": {
        "colab": {
          "base_uri": "https://localhost:8080/",
          "height": 286
        },
        "id": "iabwnJnc1xT6",
        "outputId": "5a2d5252-01c1-43f3-8636-f28521232f98"
      },
      "source": [
        "img, label = test_dataset[0]\n",
        "plt.imshow(img.permute(1, 2, 0))\n",
        "print('Label:', dataset.classes[label], ', Predicted:', predict_image(img, model))"
      ],
      "execution_count": 113,
      "outputs": [
        {
          "output_type": "stream",
          "text": [
            "Label: Apple Braeburn , Predicted: Apple Braeburn\n"
          ],
          "name": "stdout"
        },
        {
          "output_type": "display_data",
          "data": {
            "image/png": "[encoded data removed]",
            "text/plain": [
              "<Figure size 432x288 with 1 Axes>"
            ]
          },
          "metadata": {
            "tags": [],
            "needs_background": "light"
          }
        }
      ]
    },
    {
      "cell_type": "code",
      "metadata": {
        "colab": {
          "base_uri": "https://localhost:8080/",
          "height": 286
        },
        "id": "oRExRnlg0URb",
        "outputId": "430d88ef-e7c7-4270-f7f2-c59a498fe550"
      },
      "source": [
        "img, label = test_dataset[1]\n",
        "plt.imshow(img.permute(1, 2, 0))\n",
        "print('Label:', dataset.classes[label], ', Predicted:', predict_image(img, model))"
      ],
      "execution_count": 114,
      "outputs": [
        {
          "output_type": "stream",
          "text": [
            "Label: Apple Braeburn , Predicted: Apple Braeburn\n"
          ],
          "name": "stdout"
        },
        {
          "output_type": "display_data",
          "data": {
            "image/png": "[encoded data removed]",
            "text/plain": [
              "<Figure size 432x288 with 1 Axes>"
            ]
          },
          "metadata": {
            "tags": [],
            "needs_background": "light"
          }
        }
      ]
    },
    {
      "cell_type": "code",
      "metadata": {
        "colab": {
          "base_uri": "https://localhost:8080/",
          "height": 286
        },
        "id": "pRbt7YMS2kBo",
        "outputId": "6cad7615-be57-4e2c-ac52-1ddc41534509"
      },
      "source": [
        "img, label = test_dataset[3015]\n",
        "plt.imshow(img.permute(1, 2, 0))\n",
        "print('Label:', dataset.classes[label], ', Predicted:', predict_image(img, model))"
      ],
      "execution_count": 115,
      "outputs": [
        {
          "output_type": "stream",
          "text": [
            "Label: Banana Red , Predicted: Banana Red\n"
          ],
          "name": "stdout"
        },
        {
          "output_type": "display_data",
          "data": {
            "image/png": "[encoded data removed]",
            "text/plain": [
              "<Figure size 432x288 with 1 Axes>"
            ]
          },
          "metadata": {
            "tags": [],
            "needs_background": "light"
          }
        }
      ]
    },
    {
      "cell_type": "code",
      "metadata": {
        "id": "Gt5dBfIc_Wtr"
      },
      "source": [
        ""
      ],
      "execution_count": 115,
      "outputs": []
    }
  ]
}